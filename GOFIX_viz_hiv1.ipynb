{
 "cells": [
  {
   "cell_type": "code",
   "execution_count": 1,
   "id": "8ab79dc3-1588-435c-9ca8-8698a7d5d95b",
   "metadata": {},
   "outputs": [],
   "source": [
    "from Bio import SeqIO\n",
    "from itertools import cycle\n",
    "import warnings\n",
    "import numpy as np\n",
    "from dna_features_viewer import GraphicFeature, GraphicRecord, BiopythonTranslator\n",
    "import matplotlib.pyplot as plt\n",
    "from copy import deepcopy"
   ]
  },
  {
   "cell_type": "code",
   "execution_count": 2,
   "id": "b802c297-9172-4ccf-9297-5af49efa8549",
   "metadata": {},
   "outputs": [],
   "source": [
    "seq = SeqIO.read(\"<path_to>/hiv1_sequence.gb\",'genbank')"
   ]
  },
  {
   "cell_type": "code",
   "execution_count": 52,
   "id": "aa471425-6366-41ea-9029-24e6e829a741",
   "metadata": {},
   "outputs": [
    {
     "data": {
      "text/plain": [
       "'NC_001802.1'"
      ]
     },
     "execution_count": 52,
     "metadata": {},
     "output_type": "execute_result"
    }
   ],
   "source": [
    "seq.id"
   ]
  },
  {
   "cell_type": "code",
   "execution_count": 3,
   "id": "bc711064-7126-422e-adb8-5ea06cd8f19d",
   "metadata": {},
   "outputs": [],
   "source": [
    "X_CODONS =  set([\"AAC\",\"AAT\",\"ACC\",\"ATC\",\"ATT\",\"CAG\",\"CTC\",\"CTG\",\"GAA\",\"GAC\",\"GAG\",\"GAT\",\"GCC\",\"GGC\",\"GGT\",\n",
    "                 \"GTA\",\"GTC\",\"GTT\",\"TAC\",\"TTC\"])"
   ]
  },
  {
   "cell_type": "code",
   "execution_count": 5,
   "id": "6df895c2-0d50-4ea2-b1d2-54d2592ea424",
   "metadata": {},
   "outputs": [],
   "source": [
    "def x_motif(x):\n",
    "    frame_open = 0\n",
    "    frame_score = 0\n",
    "    codon_set = set()\n",
    "    if len(x)%3 != 0:\n",
    "        warnings.warn(\"This sequence is not divisible by 3 and will be truncated by {} bases.\".format(len(x)%3))\n",
    "    for i in range(0,len(x)-(len(x)%3),3):\n",
    "        if x[i:i+3] in X_CODONS:\n",
    "            frame_open += 3\n",
    "            codon_set.update([x[i:i+3]])\n",
    "        elif frame_open > 6 and len(codon_set) > 1:\n",
    "            frame_score += frame_open\n",
    "            frame_open = 0\n",
    "            codon_set = set()\n",
    "        else:\n",
    "            frame_open = 0\n",
    "            codon_set = set()\n",
    "    else:\n",
    "        #flush frame_open buffer once end of loop is reached\n",
    "        #without this last X motif in sequence is never counted\n",
    "        if frame_open > 6 and len(codon_set) > 1:\n",
    "            frame_score += frame_open\n",
    "    return frame_score"
   ]
  },
  {
   "cell_type": "code",
   "execution_count": 6,
   "id": "c0cecd78-4aeb-4d48-81c8-7481402936ad",
   "metadata": {},
   "outputs": [
    {
     "name": "stderr",
     "output_type": "stream",
     "text": [
      "C:\\Users\\notor\\AppData\\Local\\Temp\\ipykernel_37164\\3372388519.py:6: UserWarning: This sequence is not divisible by 3 and will be truncated by 2 bases.\n",
      "  warnings.warn(\"This sequence is not divisible by 3 and will be truncated by {} bases.\".format(len(x)%3))\n"
     ]
    },
    {
     "data": {
      "text/plain": [
       "453"
      ]
     },
     "execution_count": 6,
     "metadata": {},
     "output_type": "execute_result"
    }
   ],
   "source": [
    "x_motif(str(seq.seq[2:]))"
   ]
  },
  {
   "cell_type": "code",
   "execution_count": 12,
   "id": "0a1a4bdb-3c6f-4085-90e8-40c743ccc067",
   "metadata": {},
   "outputs": [],
   "source": [
    "#rewrite get_scores to only do a sliding window withing the give reading frame takes as argument complete sequence\n",
    "#and intervals dict\n",
    "def get_scores(seq,interval_dict,window_size=150):\n",
    "    scores_dict = {frame:np.zeros(len(range(frame,len(seq)-window_size,3))) for frame in interval_dict.keys()}\n",
    "    for frame in interval_dict.keys():\n",
    "        for interval in interval_dict[frame]:\n",
    "            for i in range(interval[0],interval[1]-window_size,3):\n",
    "                scores_dict[frame][i//3] = x_motif(seq[i:i+window_size])\n",
    "    return scores_dict\n",
    "    "
   ]
  },
  {
   "cell_type": "code",
   "execution_count": 15,
   "id": "82f3c230-ecba-4432-967e-d480fe10a1c0",
   "metadata": {},
   "outputs": [],
   "source": [
    "def find_orfs(seq, min_length=120):\n",
    "    \"\"\"\n",
    "    Find ORFs in all three forward reading frames of a nucleotide sequence.\n",
    "\n",
    "    Parameters:\n",
    "        seq (str): DNA sequence (string of A, T, G, C).\n",
    "        min_length (int): Minimum ORF length in nucleotides.\n",
    "\n",
    "    Returns:\n",
    "        dict: Keys are 0, 1, 2 for the reading frames; values are lists of (start, stop) tuples.\n",
    "    \"\"\"\n",
    "    seq = seq.upper()\n",
    "    stop_codons = {'TAA', 'TAG', 'TGA'}\n",
    "    start_codon = 'ATG'\n",
    "    orfs = {0: [], 1: [], 2: []}\n",
    "\n",
    "    for frame in range(3):\n",
    "        i = frame\n",
    "        while i < len(seq) - 2:\n",
    "            codon = seq[i:i+3]\n",
    "            if codon == start_codon:\n",
    "                start = i\n",
    "                j = i + 3\n",
    "                while j < len(seq) - 2:\n",
    "                    stop_codon = seq[j:j+3]\n",
    "                    if stop_codon in stop_codons:\n",
    "                        end = j + 3  # include stop codon\n",
    "                        if end - start >= min_length:\n",
    "                            orfs[frame].append((start, end))\n",
    "                        break\n",
    "                    j += 3\n",
    "                i = j  # jump to the end of the ORF or next codon after failed ORF\n",
    "            else:\n",
    "                i += 3\n",
    "    return orfs"
   ]
  },
  {
   "cell_type": "code",
   "execution_count": 9,
   "id": "2d5f12be-6619-4370-a85a-f0e8afddf04e",
   "metadata": {},
   "outputs": [],
   "source": [
    "#TODO: In order to do XME normalization, we will take the intervals generated in orf_list and perform a bedtools coverage operation\n",
    "#with the -d flag to give per-base coverage. This allows normalization of the gofix scores on a per-coordinate basis for overlapping orfs"
   ]
  },
  {
   "cell_type": "code",
   "execution_count": 16,
   "id": "09638c35-0318-4831-8d87-f48c5c450244",
   "metadata": {},
   "outputs": [],
   "source": [
    "orf_list = find_orfs(str(seq.seq))"
   ]
  },
  {
   "cell_type": "code",
   "execution_count": 17,
   "id": "b84be3ba-252b-4797-b309-d6ce244259c2",
   "metadata": {
    "scrolled": true
   },
   "outputs": [
    {
     "data": {
      "text/plain": [
       "{0: [(3954, 4122), (5376, 5595), (5607, 5856)],\n",
       " 1: [(796, 955), (1903, 4642), (5104, 5341), (5770, 8341)],\n",
       " 2: [(335, 1838), (4586, 5165), (5888, 6023), (8342, 8714)]}"
      ]
     },
     "execution_count": 17,
     "metadata": {},
     "output_type": "execute_result"
    }
   ],
   "source": [
    "orf_list"
   ]
  },
  {
   "cell_type": "code",
   "execution_count": 12,
   "id": "019984f1-5eb4-410b-aa2d-55d1f967cdef",
   "metadata": {},
   "outputs": [],
   "source": [
    "'''\n",
    "frame_array = np.zeros(len(seq))\n",
    "for frame in orf_list:\n",
    "    for intervals in orf_list[frame]:\n",
    "        new_orf = np.zeros(len(seq))\n",
    "        new_orf[intervals[0]:intervals[1]] += 1\n",
    "        frame_array = frame_array + new_orf\n",
    "'''"
   ]
  },
  {
   "cell_type": "code",
   "execution_count": 18,
   "id": "e8c30cbd-ec16-4a42-940f-64405c7b9bf9",
   "metadata": {},
   "outputs": [],
   "source": [
    "frame_array = {}\n",
    "for frame in orf_list:\n",
    "    new_orf = np.zeros(len(seq))\n",
    "    for intervals in orf_list[frame]:\n",
    "        new_orf[intervals[0]:intervals[1]] += 1\n",
    "    frame_array[frame] = new_orf\n"
   ]
  },
  {
   "cell_type": "code",
   "execution_count": 19,
   "id": "d55cea93-3afc-4e4d-ae5a-127f9efd0f6f",
   "metadata": {},
   "outputs": [
    {
     "data": {
      "text/plain": [
       "array([0., 0., 0., ..., 0., 0., 0.])"
      ]
     },
     "execution_count": 19,
     "metadata": {},
     "output_type": "execute_result"
    }
   ],
   "source": [
    "frame_array[0]"
   ]
  },
  {
   "cell_type": "code",
   "execution_count": 20,
   "id": "ed21121c-ce34-4502-883f-a6aeba75707c",
   "metadata": {},
   "outputs": [],
   "source": [
    "#TODO: Get scores by iterating through intervals list instead of full sequence\n",
    "window_size = 150\n",
    "raw_scores = get_scores(str(seq.seq),orf_list,window_size)"
   ]
  },
  {
   "cell_type": "code",
   "execution_count": 21,
   "id": "bf9fa2dc-aee0-481f-9943-9edb9424bdd6",
   "metadata": {},
   "outputs": [
    {
     "name": "stdout",
     "output_type": "stream",
     "text": [
      "3011\n",
      "3010\n",
      "3010\n"
     ]
    }
   ],
   "source": [
    "print(len(raw_scores[0]))\n",
    "print(len(raw_scores[1]))\n",
    "print(len(raw_scores[2]))"
   ]
  },
  {
   "cell_type": "code",
   "execution_count": 22,
   "id": "47564373-ae98-4434-a9ee-4f023091a0e7",
   "metadata": {},
   "outputs": [
    {
     "name": "stdout",
     "output_type": "stream",
     "text": [
      "{0, 2}\n"
     ]
    }
   ],
   "source": [
    "frame_set = set([0,1,2])\n",
    "print(frame_set - set([1]))"
   ]
  },
  {
   "cell_type": "code",
   "execution_count": 23,
   "id": "42a4886e-3b5c-447d-887f-3b95a3b6a7db",
   "metadata": {},
   "outputs": [],
   "source": [
    "gofix_scores = {}\n",
    "frame_set = set([0,1,2])\n",
    "lf_debug = []\n",
    "array_range = min([len(raw_scores[f]) for f in raw_scores.keys()])\n",
    "for frame in raw_scores:\n",
    "    new_score = []\n",
    "    #Score is XL_f\n",
    "    for i,score in enumerate(range(array_range)):\n",
    "        #Need to calculate l_f\n",
    "        l_f = window_size\n",
    "        for other_frame in frame_set - set([frame]):\n",
    "            l_f -= raw_scores[other_frame][i] * np.max(frame_array[other_frame][(i*3)+other_frame:(i*3)+window_size])\n",
    "        new_score.append((100/l_f)*raw_scores[frame][i])\n",
    "        lf_debug.append(l_f)\n",
    "    gofix_scores[frame] = np.array(new_score)\n",
    "        "
   ]
  },
  {
   "cell_type": "code",
   "execution_count": 24,
   "id": "7fd31ac6-e211-4c45-9d0b-3359412c414c",
   "metadata": {},
   "outputs": [
    {
     "data": {
      "text/plain": [
       "1.1111111111111112"
      ]
     },
     "execution_count": 24,
     "metadata": {},
     "output_type": "execute_result"
    }
   ],
   "source": [
    "100/min(lf_debug)"
   ]
  },
  {
   "cell_type": "code",
   "execution_count": 25,
   "id": "790486d8-82e7-44c6-ae13-646c6e57bfaa",
   "metadata": {},
   "outputs": [
    {
     "data": {
      "text/plain": [
       "array([0., 0., 0., ..., 0., 0., 0.])"
      ]
     },
     "execution_count": 25,
     "metadata": {},
     "output_type": "execute_result"
    }
   ],
   "source": [
    "gofix_scores[0]"
   ]
  },
  {
   "cell_type": "code",
   "execution_count": 26,
   "id": "fb1a69d1-2f97-44ec-8246-9c8f80bf8565",
   "metadata": {},
   "outputs": [
    {
     "data": {
      "text/plain": [
       "(array([3954, 3955, 3956, 3957, 3958, 3959, 3960, 3961, 3962, 3963, 3964,\n",
       "        3965, 3966, 3967, 3968, 3969, 3970, 3971, 3972, 3973, 3974, 3975,\n",
       "        3976, 3977, 3978, 3979, 3980, 3981, 3982, 3983, 3984, 3985, 3986,\n",
       "        3987, 3988, 3989, 3990, 3991, 3992, 3993, 3994, 3995, 3996, 3997,\n",
       "        3998, 3999, 4000, 4001, 4002, 4003, 4004, 4005, 4006, 4007, 4008,\n",
       "        4009, 4010, 4011, 4012, 4013, 4014, 4015, 4016, 4017, 4018, 4019,\n",
       "        4020, 4021, 4022, 4023, 4024, 4025, 4026, 4027, 4028, 4029, 4030,\n",
       "        4031, 4032, 4033, 4034, 4035, 4036, 4037, 4038, 4039, 4040, 4041,\n",
       "        4042, 4043, 4044, 4045, 4046, 4047, 4048, 4049, 4050, 4051, 4052,\n",
       "        4053, 4054, 4055, 4056, 4057, 4058, 4059, 4060, 4061, 4062, 4063,\n",
       "        4064, 4065, 4066, 4067, 4068, 4069, 4070, 4071, 4072, 4073, 4074,\n",
       "        4075, 4076, 4077, 4078, 4079, 4080, 4081, 4082, 4083, 4084, 4085,\n",
       "        4086, 4087, 4088, 4089, 4090, 4091, 4092, 4093, 4094, 4095, 4096,\n",
       "        4097, 4098, 4099, 4100, 4101, 4102, 4103, 4104, 4105, 4106, 4107,\n",
       "        4108, 4109, 4110, 4111, 4112, 4113, 4114, 4115, 4116, 4117, 4118,\n",
       "        4119, 4120, 4121, 5376, 5377, 5378, 5379, 5380, 5381, 5382, 5383,\n",
       "        5384, 5385, 5386, 5387, 5388, 5389, 5390, 5391, 5392, 5393, 5394,\n",
       "        5395, 5396, 5397, 5398, 5399, 5400, 5401, 5402, 5403, 5404, 5405,\n",
       "        5406, 5407, 5408, 5409, 5410, 5411, 5412, 5413, 5414, 5415, 5416,\n",
       "        5417, 5418, 5419, 5420, 5421, 5422, 5423, 5424, 5425, 5426, 5427,\n",
       "        5428, 5429, 5430, 5431, 5432, 5433, 5434, 5435, 5436, 5437, 5438,\n",
       "        5439, 5440, 5441, 5442, 5443, 5444, 5445, 5446, 5447, 5448, 5449,\n",
       "        5450, 5451, 5452, 5453, 5454, 5455, 5456, 5457, 5458, 5459, 5460,\n",
       "        5461, 5462, 5463, 5464, 5465, 5466, 5467, 5468, 5469, 5470, 5471,\n",
       "        5472, 5473, 5474, 5475, 5476, 5477, 5478, 5479, 5480, 5481, 5482,\n",
       "        5483, 5484, 5485, 5486, 5487, 5488, 5489, 5490, 5491, 5492, 5493,\n",
       "        5494, 5495, 5496, 5497, 5498, 5499, 5500, 5501, 5502, 5503, 5504,\n",
       "        5505, 5506, 5507, 5508, 5509, 5510, 5511, 5512, 5513, 5514, 5515,\n",
       "        5516, 5517, 5518, 5519, 5520, 5521, 5522, 5523, 5524, 5525, 5526,\n",
       "        5527, 5528, 5529, 5530, 5531, 5532, 5533, 5534, 5535, 5536, 5537,\n",
       "        5538, 5539, 5540, 5541, 5542, 5543, 5544, 5545, 5546, 5547, 5548,\n",
       "        5549, 5550, 5551, 5552, 5553, 5554, 5555, 5556, 5557, 5558, 5559,\n",
       "        5560, 5561, 5562, 5563, 5564, 5565, 5566, 5567, 5568, 5569, 5570,\n",
       "        5571, 5572, 5573, 5574, 5575, 5576, 5577, 5578, 5579, 5580, 5581,\n",
       "        5582, 5583, 5584, 5585, 5586, 5587, 5588, 5589, 5590, 5591, 5592,\n",
       "        5593, 5594, 5607, 5608, 5609, 5610, 5611, 5612, 5613, 5614, 5615,\n",
       "        5616, 5617, 5618, 5619, 5620, 5621, 5622, 5623, 5624, 5625, 5626,\n",
       "        5627, 5628, 5629, 5630, 5631, 5632, 5633, 5634, 5635, 5636, 5637,\n",
       "        5638, 5639, 5640, 5641, 5642, 5643, 5644, 5645, 5646, 5647, 5648,\n",
       "        5649, 5650, 5651, 5652, 5653, 5654, 5655, 5656, 5657, 5658, 5659,\n",
       "        5660, 5661, 5662, 5663, 5664, 5665, 5666, 5667, 5668, 5669, 5670,\n",
       "        5671, 5672, 5673, 5674, 5675, 5676, 5677, 5678, 5679, 5680, 5681,\n",
       "        5682, 5683, 5684, 5685, 5686, 5687, 5688, 5689, 5690, 5691, 5692,\n",
       "        5693, 5694, 5695, 5696, 5697, 5698, 5699, 5700, 5701, 5702, 5703,\n",
       "        5704, 5705, 5706, 5707, 5708, 5709, 5710, 5711, 5712, 5713, 5714,\n",
       "        5715, 5716, 5717, 5718, 5719, 5720, 5721, 5722, 5723, 5724, 5725,\n",
       "        5726, 5727, 5728, 5729, 5730, 5731, 5732, 5733, 5734, 5735, 5736,\n",
       "        5737, 5738, 5739, 5740, 5741, 5742, 5743, 5744, 5745, 5746, 5747,\n",
       "        5748, 5749, 5750, 5751, 5752, 5753, 5754, 5755, 5756, 5757, 5758,\n",
       "        5759, 5760, 5761, 5762, 5763, 5764, 5765, 5766, 5767, 5768, 5769,\n",
       "        5770, 5771, 5772, 5773, 5774, 5775, 5776, 5777, 5778, 5779, 5780,\n",
       "        5781, 5782, 5783, 5784, 5785, 5786, 5787, 5788, 5789, 5790, 5791,\n",
       "        5792, 5793, 5794, 5795, 5796, 5797, 5798, 5799, 5800, 5801, 5802,\n",
       "        5803, 5804, 5805, 5806, 5807, 5808, 5809, 5810, 5811, 5812, 5813,\n",
       "        5814, 5815, 5816, 5817, 5818, 5819, 5820, 5821, 5822, 5823, 5824,\n",
       "        5825, 5826, 5827, 5828, 5829, 5830, 5831, 5832, 5833, 5834, 5835,\n",
       "        5836, 5837, 5838, 5839, 5840, 5841, 5842, 5843, 5844, 5845, 5846,\n",
       "        5847, 5848, 5849, 5850, 5851, 5852, 5853, 5854, 5855], dtype=int64),)"
      ]
     },
     "execution_count": 26,
     "metadata": {},
     "output_type": "execute_result"
    }
   ],
   "source": [
    "np.where(frame_array[0] !=0)"
   ]
  },
  {
   "cell_type": "code",
   "execution_count": 27,
   "id": "ccab015c-bd0e-487c-93ea-eea9621cb9b7",
   "metadata": {},
   "outputs": [],
   "source": [
    "seq.features = [f for f in seq.features if f.type == 'CDS']"
   ]
  },
  {
   "cell_type": "code",
   "execution_count": 28,
   "id": "ff818704-68b8-4bf4-b51d-6580ba4e60a0",
   "metadata": {},
   "outputs": [],
   "source": [
    "feature_frames = {f.qualifiers['gene'][0]:f.location.start%3 for f in seq.features}"
   ]
  },
  {
   "cell_type": "code",
   "execution_count": 29,
   "id": "15ab70a8-b0e1-4ee2-a289-30690bd69246",
   "metadata": {},
   "outputs": [
    {
     "data": {
      "text/plain": [
       "{'gag-pol': 2,\n",
       " 'gag': 2,\n",
       " 'vif': 2,\n",
       " 'vpr': 1,\n",
       " 'tat': 0,\n",
       " 'rev': 1,\n",
       " 'vpu': 0,\n",
       " 'env': 1,\n",
       " 'asp': 0,\n",
       " 'nef': 2}"
      ]
     },
     "execution_count": 29,
     "metadata": {},
     "output_type": "execute_result"
    }
   ],
   "source": [
    "feature_frames"
   ]
  },
  {
   "cell_type": "code",
   "execution_count": 30,
   "id": "98d398f8-5c3a-4fd4-947f-ec70a930e29c",
   "metadata": {},
   "outputs": [],
   "source": [
    "color_dict = {0:'#f14722',1:'#26deba',2:'#dd7cee'}"
   ]
  },
  {
   "cell_type": "code",
   "execution_count": 31,
   "id": "584e6990-dfb2-4d61-903c-f9c09b776ace",
   "metadata": {},
   "outputs": [],
   "source": [
    "#graphic_record = BiopythonTranslator().translate_record(\"C:/Users/notor/Documents/Phil_School_2024/Phil_School_2024/Seto_lab_rotation/sars2_refseq.gb\")\n",
    "graphic_record = BiopythonTranslator().translate_record(seq)\n"
   ]
  },
  {
   "cell_type": "code",
   "execution_count": 32,
   "id": "a4d6ebd5-51df-4f53-93b8-50744a11b5a2",
   "metadata": {},
   "outputs": [],
   "source": [
    "for gf in graphic_record.features:\n",
    "    gf.color = color_dict[feature_frames[gf.label]]"
   ]
  },
  {
   "cell_type": "code",
   "execution_count": 42,
   "id": "8e07585e-3e4b-4776-bd1b-a03ca0e3a1ec",
   "metadata": {},
   "outputs": [
    {
     "name": "stdout",
     "output_type": "stream",
     "text": [
      "gag-pol 335 4642\n",
      "gag 335 1838\n",
      "vif 4586 5165\n",
      "vpr 5104 5396\n",
      "tat 5376 7970\n",
      "rev 5515 8199\n",
      "vpu 5607 5856\n",
      "env 5770 8341\n",
      "asp 6918 7488\n",
      "nef 8342 8963\n"
     ]
    }
   ],
   "source": [
    "for f in graphic_record.features:\n",
    "    print(f.label,f.start,f.end)"
   ]
  },
  {
   "cell_type": "code",
   "execution_count": 44,
   "id": "ecc52d61-ca36-4189-ab50-9ebb4e54ecfc",
   "metadata": {},
   "outputs": [
    {
     "data": {
      "text/plain": [
       "1693"
      ]
     },
     "execution_count": 44,
     "metadata": {},
     "output_type": "execute_result"
    }
   ],
   "source": [
    "len(seq)-7488"
   ]
  },
  {
   "cell_type": "code",
   "execution_count": 34,
   "id": "a41760a1-8ac0-44e5-9f14-0a0650252931",
   "metadata": {},
   "outputs": [
    {
     "data": {
      "image/png": "[encoded data removed]",
      "text/plain": [
       "<Figure size 1200x600 with 2 Axes>"
      ]
     },
     "metadata": {},
     "output_type": "display_data"
    }
   ],
   "source": [
    "#whole genome\n",
    "x_positions_frame_1 = [i * 3 + (window_size // 2) for i in range(len(gofix_scores[0]))]\n",
    "x_positions_frame_2 = [i * 3 + (window_size // 2) for i in range(len(gofix_scores[1]))]\n",
    "x_positions_frame_3 = [i * 3 + (window_size // 2) for i in range(len(gofix_scores[2]))]\n",
    "fig, (ax1, ax2) = plt.subplots(nrows=2, figsize=(12, 6), sharex=True,\n",
    "                               gridspec_kw={\"height_ratios\": [1, 2]})\n",
    "graphic_record.plot(ax=ax1, with_ruler=False, strand_in_label_threshold=7)\n",
    "ax2.plot(x_positions_frame_1, gofix_scores[0], label=\"Frame 0\",color=color_dict[0])\n",
    "ax2.plot(x_positions_frame_2, gofix_scores[1], label=\"Frame 1\",color=color_dict[1])\n",
    "ax2.plot(x_positions_frame_3, gofix_scores[2], label=\"Frame 2\",color=color_dict[2])\n",
    "ax2.set_ylabel(\"Running Average\")\n",
    "ax2.set_xlabel(\"Genome Position (bp)\")\n",
    "ax2.legend()\n",
    "ax2.set_title(\"Running Average of GOFIX motifs (150bp Window)\")\n",
    "\n",
    "plt.tight_layout()\n",
    "plt.show()"
   ]
  },
  {
   "cell_type": "code",
   "execution_count": 33,
   "id": "3457d834-3e57-408e-bd9c-39c6af171571",
   "metadata": {},
   "outputs": [
    {
     "data": {
      "text/plain": [
       "75"
      ]
     },
     "execution_count": 33,
     "metadata": {},
     "output_type": "execute_result"
    }
   ],
   "source": []
  },
  {
   "cell_type": "code",
   "execution_count": 76,
   "id": "18787d28-7daa-4cd5-ad38-e87af15ee582",
   "metadata": {},
   "outputs": [],
   "source": [
    "#TODO: Graph reverse strand"
   ]
  },
  {
   "cell_type": "code",
   "execution_count": 35,
   "id": "b66f4141-8c17-40ff-812a-2e57f78849da",
   "metadata": {},
   "outputs": [],
   "source": [
    "rev_seq = seq.seq.reverse_complement()\n",
    "rev_orf_list = find_orfs(str(rev_seq))\n"
   ]
  },
  {
   "cell_type": "code",
   "execution_count": 36,
   "id": "b9652fab-91f5-4a3f-8fee-dd027d4e0f47",
   "metadata": {},
   "outputs": [
    {
     "data": {
      "text/plain": [
       "{0: [(2421, 2619), (3096, 3246), (6381, 6510), (8139, 8265), (8286, 8415)],\n",
       " 1: [(268, 442),\n",
       "  (1354, 1501),\n",
       "  (1693, 2263),\n",
       "  (2413, 2641),\n",
       "  (2917, 3073),\n",
       "  (3112, 3295),\n",
       "  (4603, 4729),\n",
       "  (4783, 4906),\n",
       "  (5785, 6061),\n",
       "  (6691, 6817),\n",
       "  (6898, 7111)],\n",
       " 2: [(3491, 3611), (6050, 6239), (8414, 8546)]}"
      ]
     },
     "execution_count": 36,
     "metadata": {},
     "output_type": "execute_result"
    }
   ],
   "source": [
    "rev_orf_list"
   ]
  },
  {
   "cell_type": "code",
   "execution_count": 37,
   "id": "62bc6811-a8ae-4f94-84e9-ab1bdde8b9a8",
   "metadata": {},
   "outputs": [],
   "source": [
    "rev_raw_scores = get_scores(str(rev_seq),rev_orf_list,window_size)"
   ]
  },
  {
   "cell_type": "code",
   "execution_count": 38,
   "id": "e28f6765-83c2-4147-8ebf-ff61cf3f55fa",
   "metadata": {},
   "outputs": [],
   "source": [
    "rev_gofix_scores = {}\n",
    "frame_set = set([0,1,2])\n",
    "lf_debug = []\n",
    "array_range = min([len(rev_raw_scores[f]) for f in rev_raw_scores.keys()])\n",
    "for frame in rev_raw_scores:\n",
    "    new_score = []\n",
    "    #Score is XL_f\n",
    "    for i,score in enumerate(range(array_range)):\n",
    "        #Need to calculate l_f\n",
    "        l_f = window_size\n",
    "        for other_frame in frame_set - set([frame]):\n",
    "            l_f -= rev_raw_scores[other_frame][i] * np.max(frame_array[other_frame][(i*3)+other_frame:(i*3)+window_size])\n",
    "        new_score.append((100/l_f)*rev_raw_scores[frame][i])\n",
    "        lf_debug.append(l_f)\n",
    "    rev_gofix_scores[frame] = np.array(new_score)"
   ]
  },
  {
   "cell_type": "code",
   "execution_count": 39,
   "id": "b8d5eb38-607f-4fc6-ae7d-aa8943cc679a",
   "metadata": {},
   "outputs": [
    {
     "data": {
      "image/png": "[encoded data removed]",
      "text/plain": [
       "<Figure size 640x480 with 1 Axes>"
      ]
     },
     "metadata": {},
     "output_type": "display_data"
    }
   ],
   "source": [
    "#whole genome\n",
    "rev_x_positions_frame_1 = [i * 3 + (window_size // 2) for i in range(len(rev_gofix_scores[0]))]\n",
    "rev_x_positions_frame_2 = [i * 3 + (window_size // 2) for i in range(len(rev_gofix_scores[1]))]\n",
    "rev_x_positions_frame_3 = [i * 3 + (window_size // 2) for i in range(len(rev_gofix_scores[2]))]\n",
    "plt.plot(rev_x_positions_frame_1, rev_gofix_scores[0], label=\"Frame 0\",color=color_dict[0])\n",
    "plt.plot(rev_x_positions_frame_2, rev_gofix_scores[1], label=\"Frame 1\",color=color_dict[1])\n",
    "plt.plot(rev_x_positions_frame_3, rev_gofix_scores[2], label=\"Frame 2\",color=color_dict[2])\n",
    "plt.ylabel(\"Running Average\")\n",
    "plt.xlabel(\"Genome Position (bp)\")\n",
    "plt.legend()\n",
    "plt.title(\"Running Average of GOFIX motifs (150bp Window)\")\n",
    "\n",
    "plt.tight_layout()\n",
    "plt.show()"
   ]
  },
  {
   "cell_type": "code",
   "execution_count": 47,
   "id": "93d0177e-be5c-48b9-a70a-464422118328",
   "metadata": {},
   "outputs": [
    {
     "data": {
      "text/plain": [
       "'MPQTVSCNRCCCASIALSKLFCCCTIPDNNCLACTVSVIEAAPIVLPAAPKNPRNKAPIPTALFSLCTTLLFALVGATPNGSIFTTLYLYNSLLQLSLISPPPGLKISDSLLLLPPSLVNSSPVIFDEHLICPLMGGAYIAFPTFCHMFIICFILHGRVIVSLPSVLFDPSVLQVLLNQVLLNSCVELQ*'"
      ]
     },
     "execution_count": 47,
     "metadata": {},
     "output_type": "execute_result"
    }
   ],
   "source": [
    "str(rev_seq[1693: 2263].translate())"
   ]
  },
  {
   "cell_type": "code",
   "execution_count": 48,
   "id": "9361e4e0-43a2-487b-ada3-38c654cb7703",
   "metadata": {},
   "outputs": [
    {
     "data": {
      "text/plain": [
       "1693"
      ]
     },
     "execution_count": 48,
     "metadata": {},
     "output_type": "execute_result"
    }
   ],
   "source": [
    "len(seq) - 7488"
   ]
  },
  {
   "cell_type": "code",
   "execution_count": 50,
   "id": "2a175f63-8a2e-4c5b-a4a5-2882030d8162",
   "metadata": {},
   "outputs": [
    {
     "data": {
      "text/plain": [
       "'MLQCACLIFPIFPIVTNALPGPLWIRILFLVLLLGLVQLISTDVFSCTIMVLALSVKLTDLITTSSSARLPFNSS*'"
      ]
     },
     "execution_count": 50,
     "metadata": {},
     "output_type": "execute_result"
    }
   ],
   "source": [
    "str(rev_seq[2413:2641].translate())"
   ]
  },
  {
   "cell_type": "code",
   "execution_count": 51,
   "id": "fd1afe40-cabf-4b3b-b157-1420c6bf369c",
   "metadata": {},
   "outputs": [
    {
     "data": {
      "text/plain": [
       "6540"
      ]
     },
     "execution_count": 51,
     "metadata": {},
     "output_type": "execute_result"
    }
   ],
   "source": [
    "len(seq) - 2641"
   ]
  },
  {
   "cell_type": "code",
   "execution_count": 54,
   "id": "13f0ad1c-8014-4819-b7f2-641d641d29a6",
   "metadata": {},
   "outputs": [
    {
     "data": {
      "text/plain": [
       "'ATGGCAAATACTGGAGTATTGTATGGATTTTCAGGCCCAATTTTTGAAATTTTCCCTTCCTTTTCCATCTCTGTACAAATTTCTACTAATGCTTTTATTTTTTCTTCTGTCAATGGCCATTGTTTAACTTTTGGGCCATCCATTCCTGGCTTTAATTTTACTGGTACAGTCTCAATAGGGCTAATGGGAAAATTTAAAGTGCAACCAATCTGA'"
      ]
     },
     "execution_count": 54,
     "metadata": {},
     "output_type": "execute_result"
    }
   ],
   "source": [
    "str(rev_seq[6898: 7111])"
   ]
  },
  {
   "cell_type": "code",
   "execution_count": null,
   "id": "5f5a32fa-bf2e-4079-9f5f-b922097d5ce3",
   "metadata": {},
   "outputs": [],
   "source": []
  }
 ],
 "metadata": {
  "kernelspec": {
   "display_name": "Python 3 (ipykernel)",
   "language": "python",
   "name": "python3"
  },
  "language_info": {
   "codemirror_mode": {
    "name": "ipython",
    "version": 3
   },
   "file_extension": ".py",
   "mimetype": "text/x-python",
   "name": "python",
   "nbconvert_exporter": "python",
   "pygments_lexer": "ipython3",
   "version": "3.12.3"
  }
 },
 "nbformat": 4,
 "nbformat_minor": 5
}
